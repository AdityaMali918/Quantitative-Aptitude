{
  "nbformat": 4,
  "nbformat_minor": 0,
  "metadata": {
    "colab": {
      "provenance": [],
      "authorship_tag": "ABX9TyMihvjkY0V8WDIoRkdnAPkY",
      "include_colab_link": true
    },
    "kernelspec": {
      "name": "python3",
      "display_name": "Python 3"
    },
    "language_info": {
      "name": "python"
    }
  },
  "cells": [
    {
      "cell_type": "markdown",
      "metadata": {
        "id": "view-in-github",
        "colab_type": "text"
      },
      "source": [
        "<a href=\"https://colab.research.google.com/github/AdityaMali918/Quantitative-Aptitude/blob/main/Quantitative_Aptitude.ipynb\" target=\"_parent\"><img src=\"https://colab.research.google.com/assets/colab-badge.svg\" alt=\"Open In Colab\"/></a>"
      ]
    },
    {
      "cell_type": "code",
      "execution_count": null,
      "metadata": {
        "colab": {
          "base_uri": "https://localhost:8080/"
        },
        "id": "VEdgbEf8MbYi",
        "outputId": "54e2cb1c-1f97-4170-8294-363e763a9c00"
      },
      "outputs": [
        {
          "output_type": "stream",
          "name": "stdout",
          "text": [
            "Not Prime\n",
            "Not Prime\n",
            "Prime\n"
          ]
        }
      ],
      "source": [
        "# 1. Test,  which  of  the  following  are  prime  numbers?\n",
        "def isprime(n):\n",
        "  for i in range(2,n//2):\n",
        "    if n%i==0:\n",
        "      print(\"Not Prime\")\n",
        "      break\n",
        "  else:\n",
        "    print(\"Prime\")\n",
        "isprime(121)\n",
        "isprime(319)\n",
        "isprime(811)"
      ]
    },
    {
      "cell_type": "code",
      "source": [
        "# 2. Divisibility  By  2: A  number  is  divisible  by  2  if  its  unit  digit  is  any  of  0,  2,  4,  6,  8\n",
        "def div_2(n):\n",
        "  unit = n%10\n",
        "  if unit in [0,2,4,6,8]:\n",
        "    print(\"Divisible  by  2\")\n",
        "  else:\n",
        "    print(\"Not divisible  by  2\")\n",
        "\n",
        "div_2(1216)\n",
        "div_2(2137)"
      ],
      "metadata": {
        "colab": {
          "base_uri": "https://localhost:8080/"
        },
        "id": "b-o4lVsBM9zO",
        "outputId": "38111f1b-ccd3-4fa6-e728-c02a93533886"
      },
      "execution_count": null,
      "outputs": [
        {
          "output_type": "stream",
          "name": "stdout",
          "text": [
            "Divisible  by  2\n",
            "Not divisible  by  2\n"
          ]
        }
      ]
    },
    {
      "cell_type": "code",
      "source": [
        "# 3. Divisibility  By  3: A  number  is  divisible  by  3  only  when  the  sum  of  its  digits  is  divisible  by  3\n",
        "def div_3(n):\n",
        "  digit = n\n",
        "  sum = 0\n",
        "  while digit !=0:\n",
        "    sum += digit%10\n",
        "    digit //= 10\n",
        "  if sum%3==0:\n",
        "    print(\"Divisible  by  3\")\n",
        "  else:\n",
        "    print(\"Not divisible  by  3\")\n",
        "\n",
        "div_3(21231314)\n",
        "div_3(695421)"
      ],
      "metadata": {
        "colab": {
          "base_uri": "https://localhost:8080/"
        },
        "id": "nCO30syNN5Sq",
        "outputId": "dc37fa95-f380-45cf-e8f9-97b923e8159b"
      },
      "execution_count": null,
      "outputs": [
        {
          "output_type": "stream",
          "name": "stdout",
          "text": [
            "Not divisible  by  3\n",
            "Divisible  by  3\n"
          ]
        }
      ]
    },
    {
      "cell_type": "code",
      "source": [
        "# 4. Divisibility  By  9: A  number  is  divisible  by  9  only  when  the  sum  of  its  digits  is  divisible  by  9\n",
        "\n",
        "def div_9(n):\n",
        "  digit = n\n",
        "  sum = 0\n",
        "  while digit !=0:\n",
        "    sum += digit%10\n",
        "    digit //= 10\n",
        "  if sum%9==0:\n",
        "    print(\"Divisible  by  9\")\n",
        "  else:\n",
        "    print(\"Not divisible  by  9\")\n",
        "div_9(2113118)\n",
        "div_9(246591)"
      ],
      "metadata": {
        "colab": {
          "base_uri": "https://localhost:8080/"
        },
        "id": "RyTPtt2kN65I",
        "outputId": "74966b17-45d6-490f-c930-9e36d210f6fe"
      },
      "execution_count": null,
      "outputs": [
        {
          "output_type": "stream",
          "name": "stdout",
          "text": [
            "Not divisible  by  9\n",
            "Divisible  by  9\n"
          ]
        }
      ]
    },
    {
      "cell_type": "code",
      "source": [
        "# 5. Divisibility  By  4: A  number  is  divisible  by  4  if  the  number  formed  by  its  last  two  digits  is  divisible  by  4\n",
        "def div_4(n):\n",
        "  str_num = str(n)\n",
        "  len_num = len(str_num)\n",
        "  if len_num == 1:\n",
        "    print(\"Divisible by 4 \" if n%4==0 else \"Not divisible by 4\")\n",
        "  else:\n",
        "    last_digit = int(str_num[-2:])\n",
        "    if last_digit%4==0:\n",
        "      print(\"Divisible by 4 \")\n",
        "    else:\n",
        "      print(\"Not divisible by 4 \")\n",
        "div_4(45616)"
      ],
      "metadata": {
        "colab": {
          "base_uri": "https://localhost:8080/"
        },
        "id": "jo_7Idg7Pg8S",
        "outputId": "4ebe2994-0cf0-4af2-c2c4-794afddec89b"
      },
      "execution_count": null,
      "outputs": [
        {
          "output_type": "stream",
          "name": "stdout",
          "text": [
            "Divisible by 4 \n"
          ]
        }
      ]
    },
    {
      "cell_type": "code",
      "source": [
        "# 6. Divisibility  By  8: A  number  is  divisible  by  8  if  the  number  formed  by  its  last  three  digits  is  divisible  by  8.\n",
        "def div_8(n):\n",
        "  str_num = str(n)\n",
        "  len_num = len(str_num)\n",
        "  if len_num <= 2:\n",
        "    print(\"Divisible by 8 \" if n%8==0 else \"Not divisible by 8\")\n",
        "  else:\n",
        "    last_digit = int(str_num[-3:])\n",
        "    if last_digit%8==0:\n",
        "      print(\"Divisible by 8 \")\n",
        "    else:\n",
        "      print(\"Not divisible by 8 \")\n",
        "div_8(45616)\n",
        "div_8(896516)"
      ],
      "metadata": {
        "colab": {
          "base_uri": "https://localhost:8080/"
        },
        "id": "KVpqYBIsQXaU",
        "outputId": "6aca9dfe-a4a4-4732-bcc8-689395f5ec91"
      },
      "execution_count": null,
      "outputs": [
        {
          "output_type": "stream",
          "name": "stdout",
          "text": [
            "Divisible by 8 \n",
            "Not divisible by 8 \n"
          ]
        }
      ]
    },
    {
      "cell_type": "code",
      "source": [
        "# 7. Divisibility  By  10: A  number  is  divisible  by  10  only  when  its  unit  digit  is  0.\n",
        "def div_10(n):\n",
        "  unit = n%10\n",
        "  if unit == 0 :\n",
        "    print(\"Divisible  by  10\")\n",
        "  else:\n",
        "    print(\"Not divisible  by  10\")\n",
        "\n",
        "div_10(12160)\n",
        "div_10(2137)"
      ],
      "metadata": {
        "colab": {
          "base_uri": "https://localhost:8080/"
        },
        "id": "mTBiEpUrSQ4Y",
        "outputId": "e5a4992c-2b4f-4de8-f20e-5887ef277bd3"
      },
      "execution_count": null,
      "outputs": [
        {
          "output_type": "stream",
          "name": "stdout",
          "text": [
            "Divisible  by  10\n",
            "Not divisible  by  10\n"
          ]
        }
      ]
    },
    {
      "cell_type": "code",
      "source": [
        "# 8. Divisibility  By  5: A  number  is  divisible  by  5  only  when  its  unit  digit  is  0  or  5\n",
        "def div_5(n):\n",
        "  unit = n%10\n",
        "  if unit == 0  or unit == 5:\n",
        "    print(\"Divisible  by  5\")\n",
        "  else:\n",
        "    print(\"Not divisible  by  5\")\n",
        "\n",
        "div_5(12160)\n",
        "div_5(21375)\n",
        "div_5(2137)"
      ],
      "metadata": {
        "colab": {
          "base_uri": "https://localhost:8080/"
        },
        "id": "Oo6OZ0wgSqAQ",
        "outputId": "5cd72b2d-c511-4827-882d-e88e3e6029f8"
      },
      "execution_count": null,
      "outputs": [
        {
          "output_type": "stream",
          "name": "stdout",
          "text": [
            "Divisible  by  5\n",
            "Divisible  by  5\n",
            "Not divisible  by  5\n"
          ]
        }
      ]
    },
    {
      "cell_type": "code",
      "source": [
        "\"\"\" 9. Divisibility  By  11:A  number  isdivisible by 11 if the difference between the sum of its digits at odd places and  the  sum of  its\n",
        " digits  at  even  places  is  either  0  or  a  number  divisible  by  11.\"\"\"\n",
        "\n",
        "def div_11(n):\n",
        "  even_num = str(n)[0::2]\n",
        "  odd_num = str(n)[1::2]\n",
        "\n",
        "  even_sum = sum(int(i) for i in even_num)\n",
        "  odd_sum = sum(int(i) for i in odd_num)\n",
        "\n",
        "  if (odd_sum - even_sum)%11==0:\n",
        "    print(\"Divisible by 11\")\n",
        "  else:\n",
        "    print(\"not divisible by 11\")\n",
        "\n",
        "div_11(29435417)\n",
        "div_11(57463822)"
      ],
      "metadata": {
        "colab": {
          "base_uri": "https://localhost:8080/"
        },
        "id": "sf1hpUIETHJM",
        "outputId": "0f0f3d2e-326d-42b4-e929-11f9efe40851"
      },
      "execution_count": null,
      "outputs": [
        {
          "output_type": "stream",
          "name": "stdout",
          "text": [
            "Divisible by 11\n",
            "not divisible by 11\n"
          ]
        }
      ]
    },
    {
      "cell_type": "code",
      "source": [
        "# 10. Divisibility  By  25: A  number  is  divisible  by  25  if  the  number  formed  by  its  last  two  digits  is  either  00  or  divisible  by  25.\n",
        "def div_25(n):\n",
        "  str_num = str(n)\n",
        "  len_num = len(str_num)\n",
        "  if len_num == 1:\n",
        "    print(\"Not divisible by 25\")\n",
        "  else:\n",
        "    last_digit = int(str_num[-2:])\n",
        "    if last_digit%25==0:\n",
        "      print(\"Divisible by 25\")\n",
        "    else:\n",
        "      print(\"Not divisible by 25\")\n",
        "\n",
        "div_25(175)\n",
        "div_25(12345)"
      ],
      "metadata": {
        "colab": {
          "base_uri": "https://localhost:8080/"
        },
        "id": "BHg3EmPPT7HF",
        "outputId": "aba05851-d937-4d16-db23-0390c07d0159"
      },
      "execution_count": null,
      "outputs": [
        {
          "output_type": "stream",
          "name": "stdout",
          "text": [
            "Divisible by 25\n",
            "Not divisible by 25\n"
          ]
        }
      ]
    },
    {
      "cell_type": "code",
      "source": [
        "\"\"\" page -15 Question 9 \"\"\""
      ],
      "metadata": {
        "colab": {
          "base_uri": "https://localhost:8080/",
          "height": 36
        },
        "id": "6ECrjfnuUyDl",
        "outputId": "75d5bed8-161a-4dad-f5df-2abfda642142"
      },
      "execution_count": null,
      "outputs": [
        {
          "output_type": "execute_result",
          "data": {
            "text/plain": [
              "' page -15 Question 9 '"
            ],
            "application/vnd.google.colaboratory.intrinsic+json": {
              "type": "string"
            }
          },
          "metadata": {},
          "execution_count": 50
        }
      ]
    },
    {
      "cell_type": "code",
      "source": [],
      "metadata": {
        "id": "h9lSR_RLXqpx"
      },
      "execution_count": null,
      "outputs": []
    }
  ]
}