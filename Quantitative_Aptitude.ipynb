{
  "nbformat": 4,
  "nbformat_minor": 0,
  "metadata": {
    "colab": {
      "provenance": [],
      "authorship_tag": "ABX9TyPI0bt/269jB0iPqa7LQOtT",
      "include_colab_link": true
    },
    "kernelspec": {
      "name": "python3",
      "display_name": "Python 3"
    },
    "language_info": {
      "name": "python"
    }
  },
  "cells": [
    {
      "cell_type": "markdown",
      "metadata": {
        "id": "view-in-github",
        "colab_type": "text"
      },
      "source": [
        "<a href=\"https://colab.research.google.com/github/AdityaMali918/Quantitative-Aptitude/blob/main/Quantitative_Aptitude.ipynb\" target=\"_parent\"><img src=\"https://colab.research.google.com/assets/colab-badge.svg\" alt=\"Open In Colab\"/></a>"
      ]
    },
    {
      "cell_type": "code",
      "execution_count": null,
      "metadata": {
        "colab": {
          "base_uri": "https://localhost:8080/"
        },
        "id": "VEdgbEf8MbYi",
        "outputId": "54e2cb1c-1f97-4170-8294-363e763a9c00"
      },
      "outputs": [
        {
          "output_type": "stream",
          "name": "stdout",
          "text": [
            "Not Prime\n",
            "Not Prime\n",
            "Prime\n"
          ]
        }
      ],
      "source": [
        "# 1. Test,  which  of  the  following  are  prime  numbers?\n",
        "def isprime(n):\n",
        "  for i in range(2,n//2):\n",
        "    if n%i==0:\n",
        "      print(\"Not Prime\")\n",
        "      break\n",
        "  else:\n",
        "    print(\"Prime\")\n",
        "isprime(121)\n",
        "isprime(319)\n",
        "isprime(811)"
      ]
    },
    {
      "cell_type": "code",
      "source": [
        "# 2. Divisibility  By  2: A  number  is  divisible  by  2  if  its  unit  digit  is  any  of  0,  2,  4,  6,  8\n",
        "def div_2(n):\n",
        "  unit = n%10\n",
        "  if unit in [0,2,4,6,8]:\n",
        "    print(\"Divisible  by  2\")\n",
        "  else:\n",
        "    print(\"Not divisible  by  2\")\n",
        "\n",
        "div_2(1216)\n",
        "div_2(2137)"
      ],
      "metadata": {
        "colab": {
          "base_uri": "https://localhost:8080/"
        },
        "id": "b-o4lVsBM9zO",
        "outputId": "38111f1b-ccd3-4fa6-e728-c02a93533886"
      },
      "execution_count": null,
      "outputs": [
        {
          "output_type": "stream",
          "name": "stdout",
          "text": [
            "Divisible  by  2\n",
            "Not divisible  by  2\n"
          ]
        }
      ]
    },
    {
      "cell_type": "code",
      "source": [
        "# 3. Divisibility  By  3: A  number  is  divisible  by  3  only  when  the  sum  of  its  digits  is  divisible  by  3\n",
        "def div_3(n):\n",
        "  digit = n\n",
        "  sum = 0\n",
        "  while digit !=0:\n",
        "    sum += digit%10\n",
        "    digit //= 10\n",
        "  if sum%3==0:\n",
        "    print(\"Divisible  by  3\")\n",
        "  else:\n",
        "    print(\"Not divisible  by  3\")\n",
        "\n",
        "div_3(21231314)\n",
        "div_3(695421)"
      ],
      "metadata": {
        "colab": {
          "base_uri": "https://localhost:8080/"
        },
        "id": "nCO30syNN5Sq",
        "outputId": "dc37fa95-f380-45cf-e8f9-97b923e8159b"
      },
      "execution_count": null,
      "outputs": [
        {
          "output_type": "stream",
          "name": "stdout",
          "text": [
            "Not divisible  by  3\n",
            "Divisible  by  3\n"
          ]
        }
      ]
    },
    {
      "cell_type": "code",
      "source": [
        "# 4. Divisibility  By  9: A  number  is  divisible  by  9  only  when  the  sum  of  its  digits  is  divisible  by  9\n",
        "\n",
        "def div_9(n):\n",
        "  digit = n\n",
        "  sum = 0\n",
        "  while digit !=0:\n",
        "    sum += digit%10\n",
        "    digit //= 10\n",
        "  if sum%9==0:\n",
        "    print(\"Divisible  by  9\")\n",
        "  else:\n",
        "    print(\"Not divisible  by  9\")\n",
        "div_9(2113118)\n",
        "div_9(246591)"
      ],
      "metadata": {
        "colab": {
          "base_uri": "https://localhost:8080/"
        },
        "id": "RyTPtt2kN65I",
        "outputId": "74966b17-45d6-490f-c930-9e36d210f6fe"
      },
      "execution_count": null,
      "outputs": [
        {
          "output_type": "stream",
          "name": "stdout",
          "text": [
            "Not divisible  by  9\n",
            "Divisible  by  9\n"
          ]
        }
      ]
    },
    {
      "cell_type": "code",
      "source": [
        "# 5. Divisibility  By  4: A  number  is  divisible  by  4  if  the  number  formed  by  its  last  two  digits  is  divisible  by  4\n",
        "def div_4(n):\n",
        "  str_num = str(n)\n",
        "  len_num = len(str_num)\n",
        "  if len_num == 1:\n",
        "    print(\"Divisible by 4 \" if n%4==0 else \"Not divisible by 4\")\n",
        "  else:\n",
        "    last_digit = int(str_num[-2:])\n",
        "    if last_digit%4==0:\n",
        "      print(\"Divisible by 4 \")\n",
        "    else:\n",
        "      print(\"Not divisible by 4 \")\n",
        "div_4(45616)"
      ],
      "metadata": {
        "colab": {
          "base_uri": "https://localhost:8080/"
        },
        "id": "jo_7Idg7Pg8S",
        "outputId": "4ebe2994-0cf0-4af2-c2c4-794afddec89b"
      },
      "execution_count": null,
      "outputs": [
        {
          "output_type": "stream",
          "name": "stdout",
          "text": [
            "Divisible by 4 \n"
          ]
        }
      ]
    },
    {
      "cell_type": "code",
      "source": [
        "# 6. Divisibility  By  8: A  number  is  divisible  by  8  if  the  number  formed  by  its  last  three  digits  is  divisible  by  8.\n",
        "def div_8(n):\n",
        "  str_num = str(n)\n",
        "  len_num = len(str_num)\n",
        "  if len_num <= 2:\n",
        "    print(\"Divisible by 8 \" if n%8==0 else \"Not divisible by 8\")\n",
        "  else:\n",
        "    last_digit = int(str_num[-3:])\n",
        "    if last_digit%8==0:\n",
        "      print(\"Divisible by 8 \")\n",
        "    else:\n",
        "      print(\"Not divisible by 8 \")\n",
        "div_8(45616)\n",
        "div_8(896516)"
      ],
      "metadata": {
        "colab": {
          "base_uri": "https://localhost:8080/"
        },
        "id": "KVpqYBIsQXaU",
        "outputId": "6aca9dfe-a4a4-4732-bcc8-689395f5ec91"
      },
      "execution_count": null,
      "outputs": [
        {
          "output_type": "stream",
          "name": "stdout",
          "text": [
            "Divisible by 8 \n",
            "Not divisible by 8 \n"
          ]
        }
      ]
    },
    {
      "cell_type": "code",
      "source": [
        "# 7. Divisibility  By  10: A  number  is  divisible  by  10  only  when  its  unit  digit  is  0.\n",
        "def div_10(n):\n",
        "  unit = n%10\n",
        "  if unit == 0 :\n",
        "    print(\"Divisible  by  10\")\n",
        "  else:\n",
        "    print(\"Not divisible  by  10\")\n",
        "\n",
        "div_10(12160)\n",
        "div_10(2137)"
      ],
      "metadata": {
        "colab": {
          "base_uri": "https://localhost:8080/"
        },
        "id": "mTBiEpUrSQ4Y",
        "outputId": "e5a4992c-2b4f-4de8-f20e-5887ef277bd3"
      },
      "execution_count": null,
      "outputs": [
        {
          "output_type": "stream",
          "name": "stdout",
          "text": [
            "Divisible  by  10\n",
            "Not divisible  by  10\n"
          ]
        }
      ]
    },
    {
      "cell_type": "code",
      "source": [
        "# 8. Divisibility  By  5: A  number  is  divisible  by  5  only  when  its  unit  digit  is  0  or  5\n",
        "def div_5(n):\n",
        "  unit = n%10\n",
        "  if unit == 0  or unit == 5:\n",
        "    print(\"Divisible  by  5\")\n",
        "  else:\n",
        "    print(\"Not divisible  by  5\")\n",
        "\n",
        "div_5(12160)\n",
        "div_5(21375)\n",
        "div_5(2137)"
      ],
      "metadata": {
        "colab": {
          "base_uri": "https://localhost:8080/"
        },
        "id": "Oo6OZ0wgSqAQ",
        "outputId": "5cd72b2d-c511-4827-882d-e88e3e6029f8"
      },
      "execution_count": null,
      "outputs": [
        {
          "output_type": "stream",
          "name": "stdout",
          "text": [
            "Divisible  by  5\n",
            "Divisible  by  5\n",
            "Not divisible  by  5\n"
          ]
        }
      ]
    },
    {
      "cell_type": "code",
      "source": [
        "\"\"\" 9. Divisibility  By  11:A  number  isdivisible by 11 if the difference between the sum of its digits at odd places and  the  sum of  its\n",
        " digits  at  even  places  is  either  0  or  a  number  divisible  by  11.\"\"\"\n",
        "\n",
        "def div_11(n):\n",
        "  even_num = str(n)[0::2]\n",
        "  odd_num = str(n)[1::2]\n",
        "\n",
        "  even_sum = sum(int(i) for i in even_num)\n",
        "  odd_sum = sum(int(i) for i in odd_num)\n",
        "\n",
        "  if (odd_sum - even_sum)%11==0:\n",
        "    print(\"Divisible by 11\")\n",
        "  else:\n",
        "    print(\"not divisible by 11\")\n",
        "\n",
        "div_11(29435417)\n",
        "div_11(57463822)"
      ],
      "metadata": {
        "colab": {
          "base_uri": "https://localhost:8080/"
        },
        "id": "sf1hpUIETHJM",
        "outputId": "0f0f3d2e-326d-42b4-e929-11f9efe40851"
      },
      "execution_count": null,
      "outputs": [
        {
          "output_type": "stream",
          "name": "stdout",
          "text": [
            "Divisible by 11\n",
            "not divisible by 11\n"
          ]
        }
      ]
    },
    {
      "cell_type": "code",
      "source": [
        "# 10. Divisibility  By  25: A  number  is  divisible  by  25  if  the  number  formed  by  its  last  two  digits  is  either  00  or  divisible  by  25.\n",
        "def div_25(n):\n",
        "  str_num = str(n)\n",
        "  len_num = len(str_num)\n",
        "  if len_num == 1:\n",
        "    print(\"Not divisible by 25\")\n",
        "  else:\n",
        "    last_digit = int(str_num[-2:])\n",
        "    if last_digit%25==0:\n",
        "      print(\"Divisible by 25\")\n",
        "    else:\n",
        "      print(\"Not divisible by 25\")\n",
        "\n",
        "div_25(175)\n",
        "div_25(12345)"
      ],
      "metadata": {
        "colab": {
          "base_uri": "https://localhost:8080/"
        },
        "id": "BHg3EmPPT7HF",
        "outputId": "aba05851-d937-4d16-db23-0390c07d0159"
      },
      "execution_count": null,
      "outputs": [
        {
          "output_type": "stream",
          "name": "stdout",
          "text": [
            "Divisible by 25\n",
            "Not divisible by 25\n"
          ]
        }
      ]
    },
    {
      "cell_type": "code",
      "source": [
        "\"\"\" page -15 Question 9 \"\"\""
      ],
      "metadata": {
        "colab": {
          "base_uri": "https://localhost:8080/",
          "height": 36
        },
        "id": "6ECrjfnuUyDl",
        "outputId": "75d5bed8-161a-4dad-f5df-2abfda642142"
      },
      "execution_count": null,
      "outputs": [
        {
          "output_type": "execute_result",
          "data": {
            "text/plain": [
              "' page -15 Question 9 '"
            ],
            "application/vnd.google.colaboratory.intrinsic+json": {
              "type": "string"
            }
          },
          "metadata": {},
          "execution_count": 50
        }
      ]
    },
    {
      "cell_type": "code",
      "source": [
        "\"4537792\"[::-1][6:]"
      ],
      "metadata": {
        "id": "h9lSR_RLXqpx",
        "colab": {
          "base_uri": "https://localhost:8080/",
          "height": 36
        },
        "outputId": "2cda993a-cd34-4dc4-a6f1-16ac2fbb09e9"
      },
      "execution_count": null,
      "outputs": [
        {
          "output_type": "execute_result",
          "data": {
            "text/plain": [
              "'4'"
            ],
            "application/vnd.google.colaboratory.intrinsic+json": {
              "type": "string"
            }
          },
          "metadata": {},
          "execution_count": 8
        }
      ]
    },
    {
      "cell_type": "code",
      "source": [
        "\"\"\" # 11.\n",
        "Divisibility By 7 or 13:\n",
        "Divide the number into groups of 3 digits (starting from right) and find the difference\n",
        "between the sum of the numbers in odd and even places. If the difference is 0 or divisible\n",
        "\"\"\"\n",
        "def div_7_or_13(n):\n",
        "  digit = str(n)[::-1]\n",
        "  num_len = len(digit)\n",
        "  digit_list = []\n",
        "  for i in range(0,num_len,3):\n",
        "    digit_list.append(digit[i:i+3][::-1])\n",
        "\n",
        "  sum_even = 0\n",
        "  sum_odd = 0\n",
        "  for i in range(0,len(digit_list),2):\n",
        "    print(digit_list[i])\n",
        "    sum_even += int(digit_list[i])\n",
        "  for i in range(1,len(digit_list),2):\n",
        "        print(digit_list[i])\n",
        "        sum_odd += int(digit_list[i])\n",
        "  diff = abs(sum_odd - sum_even)\n",
        "  if diff ==0:\n",
        "    print(\"Divisible by both 7 and 13\")\n",
        "  else:\n",
        "    if diff%7 == 0:\n",
        "      print(\"Divisible by 7\")\n",
        "    if diff%13 == 0:\n",
        "      print(\"Divisible by 13\")\n",
        "\n",
        "div_7_or_13(4537792)"
      ],
      "metadata": {
        "colab": {
          "base_uri": "https://localhost:8080/"
        },
        "id": "hBdhNBe0kbez",
        "outputId": "68e0b8e2-e17e-47ec-9cdb-be09e3a8c5f2"
      },
      "execution_count": null,
      "outputs": [
        {
          "output_type": "stream",
          "name": "stdout",
          "text": [
            "792\n",
            "4\n",
            "537\n",
            "Divisible by 7\n"
          ]
        }
      ]
    },
    {
      "cell_type": "code",
      "source": [
        "# 12. Divisibility By 16: A number is divisible by 16, if the number formed by its last 4 digits is divisible by 16.\n",
        "def div_16(n):\n",
        "  digit = str(n)[-4:]\n",
        "  if int(digit)%16 ==0:\n",
        "    print(\"Divisible by 16\")\n",
        "  else:\n",
        "    print(\"Not divisible by 16\")\n",
        "\n",
        "\n",
        "div_16(463776)\n",
        "div_16(895684)"
      ],
      "metadata": {
        "colab": {
          "base_uri": "https://localhost:8080/"
        },
        "id": "1J_1sbN1p2ac",
        "outputId": "4dd36de1-1f85-491a-d253-50cc56cedca5"
      },
      "execution_count": null,
      "outputs": [
        {
          "output_type": "stream",
          "name": "stdout",
          "text": [
            "Divisible by 16\n",
            "Not divisible by 16\n"
          ]
        }
      ]
    },
    {
      "cell_type": "code",
      "source": [
        "# 13. Divisibility By 6: A number is divisible by 6, if it is divisible by both 2 and 3\n",
        "def div_6(n):\n",
        "  if n%2 == 0 and n%3==0:\n",
        "    print(\"Divisible by 6\")\n",
        "  else:\n",
        "    print(\"Not divisible by 6\")\n",
        "\n",
        "div_6(36)\n",
        "div_6(37)"
      ],
      "metadata": {
        "colab": {
          "base_uri": "https://localhost:8080/"
        },
        "id": "KmJ9IMdAqyDK",
        "outputId": "2d0a85ea-65e5-4c03-d9a6-8acc720c7463"
      },
      "execution_count": null,
      "outputs": [
        {
          "output_type": "stream",
          "name": "stdout",
          "text": [
            "Divisible by 6\n",
            "Not divisible by 6\n"
          ]
        }
      ]
    },
    {
      "cell_type": "code",
      "source": [
        "# 14. Divisibility By 12: A number is divisible by 12, if it is divisible by both 3 and 4.\n",
        "def div_12(n):\n",
        "  if n%3 == 0 and n%4==0:\n",
        "    print(\"Divisible by 12\")\n",
        "  else:\n",
        "    print(\"Not divisible by 12\")\n",
        "\n",
        "div_12(16)\n",
        "div_12(144)"
      ],
      "metadata": {
        "colab": {
          "base_uri": "https://localhost:8080/"
        },
        "id": "MS85rfAgq3g5",
        "outputId": "9481636d-e29e-4f75-a21b-edc3fc486e57"
      },
      "execution_count": null,
      "outputs": [
        {
          "output_type": "stream",
          "name": "stdout",
          "text": [
            "Not divisible by 12\n",
            "Divisible by 12\n"
          ]
        }
      ]
    },
    {
      "cell_type": "code",
      "source": [
        "# 15. Divisibility By 15: A number is divisible by 15, if it is divisible by both 3 and 5.\n",
        "def div_15(n):\n",
        "  if n%3 == 0 and n%5==0:\n",
        "    print(\"Divisible by 15\")\n",
        "  else:\n",
        "    print(\"Not divisible by 15\")\n",
        "\n",
        "div_15(75)"
      ],
      "metadata": {
        "colab": {
          "base_uri": "https://localhost:8080/"
        },
        "id": "Bw1gIc1fu-5o",
        "outputId": "44256133-fc26-4982-9b1e-2df983b3c7e3"
      },
      "execution_count": null,
      "outputs": [
        {
          "output_type": "stream",
          "name": "stdout",
          "text": [
            "Divisible by 15\n"
          ]
        }
      ]
    },
    {
      "cell_type": "code",
      "source": [
        "# 16. Divisibility By 18: A number is divisible by 18, if it is divisible by both 2 and 9.\n",
        "def div_18(n):\n",
        "  if n%2 == 0 and n%9==0:\n",
        "    print(\"Divisible by 18\")\n",
        "  else:\n",
        "    print(\"Not divisible by 18\")\n",
        "\n",
        "div_18(75)\n",
        "div_18(90)"
      ],
      "metadata": {
        "colab": {
          "base_uri": "https://localhost:8080/"
        },
        "id": "-n2bS9mmvTQW",
        "outputId": "a99966ef-41e0-4f60-bf2a-bb7e8bda7ac6"
      },
      "execution_count": null,
      "outputs": [
        {
          "output_type": "stream",
          "name": "stdout",
          "text": [
            "Not divisible by 18\n",
            "Divisible by 18\n"
          ]
        }
      ]
    },
    {
      "cell_type": "code",
      "source": [
        "# 17. Divisibility By 14: A number is divisible by 14, if it is divisible by both 2 and 7.\n",
        "def div_14(n):\n",
        "  if n%2 == 0 and n%7==0:\n",
        "    print(\"Divisible by 14\")\n",
        "  else:\n",
        "    print(\"Not divisible by 14\")\n",
        "\n",
        "div_14(72)\n",
        "div_14(140)"
      ],
      "metadata": {
        "colab": {
          "base_uri": "https://localhost:8080/"
        },
        "id": "571EOsz3vdJd",
        "outputId": "68afb8bf-2044-4f61-a610-627ee78627e7"
      },
      "execution_count": null,
      "outputs": [
        {
          "output_type": "stream",
          "name": "stdout",
          "text": [
            "Not divisible by 14\n",
            "Divisible by 14\n"
          ]
        }
      ]
    },
    {
      "cell_type": "code",
      "source": [
        "# 18. Divisibility By 24: A given number is divisible by 24, if it is divisible by both 3 and  8\n",
        "def div_24(n):\n",
        "  if n%3 == 0 and n%8==0:\n",
        "    print(\"Divisible by 24\")\n",
        "  else:\n",
        "    print(\"Not divisible by 24\")\n",
        "\n",
        "div_24(72)\n",
        "div_24(140)"
      ],
      "metadata": {
        "colab": {
          "base_uri": "https://localhost:8080/"
        },
        "id": "5k4yBPP6vy2m",
        "outputId": "a44c002f-ed48-4742-c443-1479d7e058fa"
      },
      "execution_count": null,
      "outputs": [
        {
          "output_type": "stream",
          "name": "stdout",
          "text": [
            "Divisible by 24\n",
            "Not divisible by 24\n"
          ]
        }
      ]
    },
    {
      "cell_type": "code",
      "source": [
        "# 19. Divisibility By 40: A given number is divisible by 40, if it is divisible by both 5 and  8.\n",
        "def div_40(n):\n",
        "  if n%5 == 0 and n%8==0:\n",
        "    print(\"Divisible by 40\")\n",
        "  else:\n",
        "    print(\"Not divisible by 40\")\n",
        "\n",
        "div_40(72)\n",
        "div_40(160)"
      ],
      "metadata": {
        "colab": {
          "base_uri": "https://localhost:8080/"
        },
        "id": "fdfdLDlawBFF",
        "outputId": "70686161-87b4-48ff-a430-6fad3c4ec364"
      },
      "execution_count": null,
      "outputs": [
        {
          "output_type": "stream",
          "name": "stdout",
          "text": [
            "Not divisible by 40\n",
            "Divisible by 40\n"
          ]
        }
      ]
    },
    {
      "cell_type": "code",
      "source": [
        "# 20. Divisibility By 80: A given number is divisible by 80, if it is divisible by both 5 and  16\n",
        "def div_80(n):\n",
        "  if n%5 == 0 and n%16==0:\n",
        "    print(\"Divisible by 80\")\n",
        "  else:\n",
        "    print(\"Not divisible by 80\")\n",
        "\n",
        "div_80(72)\n",
        "div_80(160)"
      ],
      "metadata": {
        "colab": {
          "base_uri": "https://localhost:8080/"
        },
        "id": "ouJFQafwwOql",
        "outputId": "ef521832-3725-4172-e0e9-972240d7f43a"
      },
      "execution_count": null,
      "outputs": [
        {
          "output_type": "stream",
          "name": "stdout",
          "text": [
            "Not divisible by 80\n",
            "Divisible by 80\n"
          ]
        }
      ]
    },
    {
      "cell_type": "code",
      "source": [
        "\"\"\" page -16 Question 19 \"\"\""
      ],
      "metadata": {
        "colab": {
          "base_uri": "https://localhost:8080/",
          "height": 36
        },
        "id": "6JhbUfinwZxN",
        "outputId": "dabb006d-b156-480b-991a-9f5b7cd58f04"
      },
      "execution_count": null,
      "outputs": [
        {
          "output_type": "execute_result",
          "data": {
            "text/plain": [
              "' page -16 Question 19 '"
            ],
            "application/vnd.google.colaboratory.intrinsic+json": {
              "type": "string"
            }
          },
          "metadata": {},
          "execution_count": 55
        }
      ]
    },
    {
      "cell_type": "markdown",
      "source": [
        "Profit Loss"
      ],
      "metadata": {
        "id": "TxHFh4D-XPBr"
      }
    },
    {
      "cell_type": "code",
      "source": [
        "# Mansi purchased a car for ` 2,50,000 and sold it for ` 3,48,000. What is the percent profit she made on the car?\n",
        "def profit_loss(cp,sp):\n",
        "  gain = sp/cp\n",
        "  if gain>1:\n",
        "    print('Profit')\n",
        "    print(round((gain-1)*100,4))\n",
        "  else:\n",
        "    print('Loss')\n",
        "    print(round((1-gain)*100,2))\n",
        "\n",
        "profit_loss(250000,348000)"
      ],
      "metadata": {
        "id": "Y62nDDKVwhld",
        "colab": {
          "base_uri": "https://localhost:8080/"
        },
        "outputId": "8d27cdc9-6631-4f7e-9e23-544b3bb1752c"
      },
      "execution_count": 9,
      "outputs": [
        {
          "output_type": "stream",
          "name": "stdout",
          "text": [
            "Profit\n",
            "39.2\n"
          ]
        }
      ]
    },
    {
      "cell_type": "code",
      "source": [
        "profit_loss(2516,2272)"
      ],
      "metadata": {
        "colab": {
          "base_uri": "https://localhost:8080/"
        },
        "id": "iU9aRizUUmWo",
        "outputId": "78ad16d4-9d45-49ae-b114-3fbcd5911ed5"
      },
      "execution_count": 10,
      "outputs": [
        {
          "output_type": "stream",
          "name": "stdout",
          "text": [
            "Loss\n",
            "9.7\n"
          ]
        }
      ]
    },
    {
      "cell_type": "code",
      "source": [
        "# Find S.P., when (i) C.P. = ` 56.25, Gain = 20%\n",
        "def find_sp(cp,gain):\n",
        "  sp = cp*(100+gain)/100\n",
        "  print(sp)\n",
        "\n",
        "find_sp(56.25,20)\n"
      ],
      "metadata": {
        "colab": {
          "base_uri": "https://localhost:8080/"
        },
        "id": "uO_87TmCVNSW",
        "outputId": "755bd8b6-fed4-491b-a619-be39b4903218"
      },
      "execution_count": 11,
      "outputs": [
        {
          "output_type": "stream",
          "name": "stdout",
          "text": [
            "67.5\n"
          ]
        }
      ]
    },
    {
      "cell_type": "code",
      "source": [
        "# A gold bracelet is sold for ` 14500 at a loss of 20%. What is the cost price of the gold bracelet?\n",
        "def find_cp(sp,loss):\n",
        "  cp = sp/((100-loss)/100)\n",
        "  print(cp)\n",
        "\n",
        "find_cp(14500,20)"
      ],
      "metadata": {
        "colab": {
          "base_uri": "https://localhost:8080/"
        },
        "id": "qRlv1i6aV2iO",
        "outputId": "eed1a54e-b51c-4e85-86e6-bff5143da0cf"
      },
      "execution_count": 12,
      "outputs": [
        {
          "output_type": "stream",
          "name": "stdout",
          "text": [
            "18125.0\n"
          ]
        }
      ]
    },
    {
      "cell_type": "code",
      "source": [
        "# The owner of a cell phone charges his customer 23% more than the cost price. If a customer paid ` 7011 for a cell phone, then what was the cost price of the cell phone?\n",
        "def cp(extra,sp):\n",
        "  value = (100*sp)/(100+extra)\n",
        "  print(value)\n",
        "cp(23,7011)"
      ],
      "metadata": {
        "colab": {
          "base_uri": "https://localhost:8080/"
        },
        "id": "n3FaNdS0Wd4V",
        "outputId": "6a21eb78-2bc4-4f54-fad9-3df2764f27e7"
      },
      "execution_count": 14,
      "outputs": [
        {
          "output_type": "stream",
          "name": "stdout",
          "text": [
            "5700.0\n"
          ]
        }
      ]
    },
    {
      "cell_type": "code",
      "source": [
        "# Shaloo sold a mobile phone at the cost of ` 1950 at a loss of 25%. At what cost will she have to sell it to get a profit of 30%?\n",
        "def at_what_cost(sp,loss,profit):\n",
        "  cp = sp/(1-(loss/100))\n",
        "\n",
        "  new_sp = cp*(1+(profit/100))\n",
        "  print(new_sp)\n",
        "\n",
        "at_what_cost(1950,25,30)"
      ],
      "metadata": {
        "colab": {
          "base_uri": "https://localhost:8080/"
        },
        "id": "jLcGIo57XSRj",
        "outputId": "134f4c28-b048-44b6-cf1a-e6729053f97c"
      },
      "execution_count": 15,
      "outputs": [
        {
          "output_type": "stream",
          "name": "stdout",
          "text": [
            "3380.0\n"
          ]
        }
      ]
    },
    {
      "cell_type": "code",
      "source": [],
      "metadata": {
        "id": "ur0MtI4fYS6b"
      },
      "execution_count": null,
      "outputs": []
    }
  ]
}